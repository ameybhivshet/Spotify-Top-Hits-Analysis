{
 "cells": [
  {
   "cell_type": "code",
   "execution_count": null,
   "metadata": {},
   "outputs": [],
   "source": [
    "pip install spotipy\n"
   ]
  },
  {
   "cell_type": "code",
   "execution_count": 1,
   "metadata": {},
   "outputs": [],
   "source": [
    "import pandas as pd\n",
    "import numpy as np\n",
    "import spotipy\n",
    "import json\n",
    "from spotipy.oauth2 import SpotifyOAuth\n",
    "from spotipy.oauth2 import SpotifyClientCredentials"
   ]
  },
  {
   "cell_type": "code",
   "execution_count": 2,
   "metadata": {},
   "outputs": [],
   "source": [
    "CLIENT_ID = \"a14dd1fdde5846c2b1086730d6da1f44\"\n",
    "CLIENT_SECRET = \"4e6dd4a75d654f939c451be63e7e53cb\""
   ]
  },
  {
   "cell_type": "code",
   "execution_count": 3,
   "metadata": {},
   "outputs": [
    {
     "name": "stderr",
     "output_type": "stream",
     "text": [
      "C:\\Users\\User\\Anaconda3\\lib\\site-packages\\ipykernel_launcher.py:2: DeprecationWarning: You're using 'as_dict = True'.get_access_token will return the token string directly in future versions. Please adjust your code accordingly, or use get_cached_token instead.\n",
      "  \n"
     ]
    }
   ],
   "source": [
    "token = spotipy.oauth2.SpotifyClientCredentials(client_id=CLIENT_ID, client_secret=CLIENT_SECRET)\n",
    "cache_token = token.get_access_token()\n",
    "sp = spotipy.Spotify(cache_token)"
   ]
  },
  {
   "cell_type": "code",
   "execution_count": null,
   "metadata": {},
   "outputs": [],
   "source": [
    "sp.user_playlist_tracks(\"spotify\", \"37i9dQZF1DX7Jl5KP2eZaS\")"
   ]
  },
  {
   "cell_type": "code",
   "execution_count": 4,
   "metadata": {},
   "outputs": [],
   "source": [
    "def analyze_playlist(creator, playlist_id):\n",
    "    \n",
    "    # Create empty dataframe\n",
    "    playlist_features_list = [\"artist\",\"album\",\"track_name\",  \"track_id\",\"danceability\",\"energy\",\"key\",\"loudness\",\"mode\", \"speechiness\",\"instrumentalness\",\"liveness\",\"valence\",\"tempo\", \"duration_ms\",\"time_signature\",\"acousticness\"]\n",
    "    \n",
    "    playlist_df = pd.DataFrame(columns = playlist_features_list)\n",
    "    \n",
    "    # Loop through every track in the playlist, extract features and append the features to the playlist df\n",
    "    \n",
    "    playlist = sp.user_playlist_tracks(creator, playlist_id)[\"items\"]\n",
    "    for track in playlist:\n",
    "        # Create empty dict\n",
    "        playlist_features = {}\n",
    "        # Get metadata\n",
    "        playlist_features[\"artist\"] = track[\"track\"][\"album\"][\"artists\"][0][\"name\"]\n",
    "        playlist_features[\"album\"] = track[\"track\"][\"album\"][\"name\"]\n",
    "        playlist_features[\"track_name\"] = track[\"track\"][\"name\"]\n",
    "        playlist_features[\"track_id\"] = track[\"track\"][\"id\"]\n",
    "        playlist_features[\"rank\"] = track\n",
    "        \n",
    "        # Get audio features\n",
    "        audio_features = sp.audio_features(playlist_features[\"track_id\"])[0] #gets features such as danceability, energy ,etc\n",
    "        for feature in playlist_features_list[4:]: #adds the feature values to the df for the matching columns\n",
    "            playlist_features[feature] = audio_features[feature]\n",
    "        \n",
    "        # Concat the dfs\n",
    "        track_df = pd.DataFrame(playlist_features, index = [0])\n",
    "        playlist_df = pd.concat([playlist_df, track_df], ignore_index = True)\n",
    "    \n",
    "    #Assigning rank to the songs \n",
    "    playlist_df['rank'] = np.arange(len(playlist_df)) +1     \n",
    "    return playlist_df"
   ]
  },
  {
   "cell_type": "code",
   "execution_count": null,
   "metadata": {},
   "outputs": [],
   "source": [
    "track_20 = analyze_playlist(\"spotify\", \"37i9dQZF1DX7Jl5KP2eZaS\")\n",
    "track_19 = analyze_playlist(\"spotify\", \"37i9dQZF1DXcz8eC5kMSWZ\")\n",
    "track_18 = analyze_playlist(\"spotify\", \"37i9dQZF1DX1HUbZS4LEyL\")"
   ]
  },
  {
   "cell_type": "code",
   "execution_count": null,
   "metadata": {},
   "outputs": [],
   "source": [
    "track_20"
   ]
  },
  {
   "cell_type": "code",
   "execution_count": 5,
   "metadata": {},
   "outputs": [],
   "source": [
    "playlist_dict = {\n",
    " \"top_2020\" : (\"spotify\", \"37i9dQZF1DX7Jl5KP2eZaS\"), #not released yet\n",
    " \"top_2019\" : (\"spotify\", \"37i9dQZF1DWVRSukIED0e9\"), #100\n",
    " \"top_2018\" : (\"spotify\", \"37i9dQZF1DXe2bobNYDtW8\"), #100 songs \n",
    " \"top_2017\" : (\"spotify\", \"37i9dQZF1DWTE7dVUebpUW\"),  #100 songs \n",
    " \"top_2016\" : (\"spotify\", \"37i9dQZF1DX8XZ6AUo9R4R\"),  #100 songs \n",
    " \"top_2015\" : (\"spotify\", \"37i9dQZF1DX9ukdrXQLJGZ\"),  #100 songs \n",
    " \"top_2014\" : (\"spotify\", \"37i9dQZF1DX0h0QnLkMBl4\"), #100 songs \n",
    " \"top_2013\" : (\"spotify\", \"37i9dQZF1DX3Sp0P28SIer\"), #100 songs \n",
    " \"top_2012\" : (\"spotify\", \"37i9dQZF1DX0yEZaMOXna3\"), #100 songs \n",
    " \"top_2011\" : (\"spotify\", \"37i9dQZF1DXcagnSNtrGuJ\"),#100 songs \n",
    " \"top_2010\" : (\"spotify\", \"37i9dQZF1DXc6IFF23C9jj\"),  #100 songs \n",
    " \"top_2009\" : (\"spotify\", \"37i9dQZF1DX4UkKv8ED8jp\"),  #100 songs \n",
    " \"top_2008\" : (\"spotify\", \"37i9dQZF1DWYuGZUE4XQXm\"),  #100 songs \n",
    " \"top_2007\" : (\"spotify\", \"37i9dQZF1DX3j9EYdzv2N9\"), #100 songs \n",
    " \"top_2006\" : (\"spotify\", \"37i9dQZF1DX1vSJnMeoy3V\"), #100 songs \n",
    " \"top_2005\" : (\"spotify\", \"37i9dQZF1DWWzQTBs5BHX9\"), #100 songs \n",
    " \"top_2004\" : (\"spotify\", \"37i9dQZF1DWTWdbR13PQYH\"),#100 songs \n",
    " \"top_2003\" : (\"spotify\", \"37i9dQZF1DXaW8fzPh9b08\"), #100 songs \n",
    " \"top_2002\" : (\"spotify\", \"37i9dQZF1DX0P7PzzKwEKl\"), #100 songs \n",
    " \"top_2001\" : (\"spotify\", \"37i9dQZF1DX9Ol4tZWPH6V\"), #100 songs \n",
    " \"top_2000\" : (\"spotify\", \"37i9dQZF1DWUZv12GM5cFk\")#100 songs \n",
    "  \n",
    "    \n",
    "    \n",
    "}"
   ]
  },
  {
   "cell_type": "code",
   "execution_count": null,
   "metadata": {},
   "outputs": [],
   "source": [
    "for i, (key, val) in enumerate(playlist_dict.items()):\n",
    "    print(*val)"
   ]
  },
  {
   "cell_type": "code",
   "execution_count": 6,
   "metadata": {},
   "outputs": [],
   "source": [
    "def analyze_playlist_dict(playlist_dict):\n",
    "    \n",
    "    # Loop through every playlist in the dict and analyze it\n",
    "    for i, (key, val) in enumerate(playlist_dict.items()):\n",
    "        playlist_df = analyze_playlist(*val)\n",
    "        # Add a playlist column so that we can see which playlist a track belongs too\n",
    "        playlist_df[\"playlist\"] = key\n",
    "        # Create or concat df\n",
    "        if i == 0:\n",
    "            playlist_dict_df = playlist_df\n",
    "        else:\n",
    "            playlist_dict_df = pd.concat([playlist_dict_df, playlist_df], ignore_index = True)\n",
    "            \n",
    "    return playlist_dict_df"
   ]
  },
  {
   "cell_type": "code",
   "execution_count": 7,
   "metadata": {},
   "outputs": [
    {
     "name": "stderr",
     "output_type": "stream",
     "text": [
      "C:\\Users\\User\\Anaconda3\\lib\\site-packages\\ipykernel_launcher.py:28: FutureWarning: Sorting because non-concatenation axis is not aligned. A future version\n",
      "of pandas will change to not sort by default.\n",
      "\n",
      "To accept the future behavior, pass 'sort=False'.\n",
      "\n",
      "To retain the current behavior and silence the warning, pass 'sort=True'.\n",
      "\n"
     ]
    }
   ],
   "source": [
    "multiple_playlist_df = analyze_playlist_dict(playlist_dict)"
   ]
  },
  {
   "cell_type": "code",
   "execution_count": 8,
   "metadata": {},
   "outputs": [
    {
     "data": {
      "text/plain": [
       "2050"
      ]
     },
     "execution_count": 8,
     "metadata": {},
     "output_type": "execute_result"
    }
   ],
   "source": [
    "multiple_playlist_df[\"playlist\"].count()"
   ]
  },
  {
   "cell_type": "code",
   "execution_count": 9,
   "metadata": {},
   "outputs": [],
   "source": [
    "multiple_playlist_df.to_excel(r'D:\\dektop data\\spotify project\\spotify_data.xlsx', index = False)"
   ]
  },
  {
   "cell_type": "code",
   "execution_count": null,
   "metadata": {},
   "outputs": [],
   "source": []
  },
  {
   "cell_type": "code",
   "execution_count": null,
   "metadata": {},
   "outputs": [],
   "source": []
  },
  {
   "cell_type": "code",
   "execution_count": null,
   "metadata": {},
   "outputs": [],
   "source": []
  }
 ],
 "metadata": {
  "kernelspec": {
   "display_name": "Python 3",
   "language": "python",
   "name": "python3"
  },
  "language_info": {
   "codemirror_mode": {
    "name": "ipython",
    "version": 3
   },
   "file_extension": ".py",
   "mimetype": "text/x-python",
   "name": "python",
   "nbconvert_exporter": "python",
   "pygments_lexer": "ipython3",
   "version": "3.7.4"
  }
 },
 "nbformat": 4,
 "nbformat_minor": 2
}
